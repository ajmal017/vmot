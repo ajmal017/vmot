{
 "cells": [
  {
   "cell_type": "markdown",
   "metadata": {},
   "source": [
    "<img alt=\"QuantRocket logo\" src=\"https://www.quantrocket.com/assets/img/notebook-header-logo.png\">\n",
    "\n",
    "<a href=\"https://www.quantrocket.com/disclaimer/\">Disclaimer</a>"
   ]
  },
  {
   "cell_type": "markdown",
   "metadata": {},
   "source": [
    "# VMOT: Value Momentum Trend\n",
    "\n",
    "This tutorial backtests a portfolio of value, momentum, and trend strategies modeled on [Alpha Architect's VMOT ETF](https://etfsite.alphaarchitect.com/vmot/). The value and momentum strategies are provided by separate tutorials (see prerequisites). This tutorial provides the trend strategy and runs the value, momentum, and trend strategies in tandem to replicate VMOT.\n",
    "\n",
    "> Alpha Architect combines the value, momentum, and trend strategies into a single ETF for the convenience of its investors, but in QuantRocket the preferred way to run a composite strategy like VMOT is to deploy multiple separate strategies in tandem. This allows the code to be as simple as possible for each individual strategy and maximizes flexibility."
   ]
  },
  {
   "cell_type": "markdown",
   "metadata": {},
   "source": [
    "## Prerequisites\n",
    "\n",
    "This tutorial assumes you have already completed the QVAL (value) and QMOM (momentum) tutorials:\n",
    "\n",
    "* QVAL: `quantrocket codeload clone 'qval'`\n",
    "* QMOM: `quantrocket codeload clone 'qmom'`"
   ]
  },
  {
   "cell_type": "markdown",
   "metadata": {},
   "source": [
    "## Contents\n",
    "\n",
    "* Part 1: [Data Collection](Part1-Data-Collection.ipynb)\n",
    "* Part 2: [Trend Strategy](Part2-Trend-Strategy.ipynb)\n",
    "* Part 3: [VMOT Backtest](Part3-VMOT-Backtest.ipynb)"
   ]
  }
 ],
 "metadata": {
  "kernelspec": {
   "display_name": "Python 3",
   "language": "python",
   "name": "python3"
  },
  "language_info": {
   "codemirror_mode": {
    "name": "ipython",
    "version": 3
   },
   "file_extension": ".py",
   "mimetype": "text/x-python",
   "name": "python",
   "nbconvert_exporter": "python",
   "pygments_lexer": "ipython3",
   "version": "3.6.6"
  }
 },
 "nbformat": 4,
 "nbformat_minor": 2
}
