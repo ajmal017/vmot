{
 "cells": [
  {
   "cell_type": "markdown",
   "metadata": {},
   "source": [
    "<img alt=\"QuantRocket logo\" src=\"https://www.quantrocket.com/assets/img/notebook-header-logo.png\">\n",
    "\n",
    "<a href=\"https://www.quantrocket.com/disclaimer/\">Disclaimer</a>"
   ]
  },
  {
   "cell_type": "markdown",
   "metadata": {},
   "source": [
    "# VMOT: Value Momentum Trend\n",
    "\n",
    "This tutorial walks through how to backtest a portfolio of value, momentum, and trend strategies modeled on [Alpha Architect's VMOT ETF](https://etfsite.alphaarchitect.com/vmot/). VMOT is a composite value-momentum-trend strategy that combines Alpha Architect's QVAL (value) and QMOM (momentum) strategies with a trend-based hedging strategy as the third component. While Alpha Architect combines these components into a single ETF for the convenience of its investors, in QuantRocket the preferred way to run the strategies is as three separate strategies deployed in tandem. This allows the code to be as simple as possible for each individual strategy."
   ]
  },
  {
   "cell_type": "markdown",
   "metadata": {},
   "source": [
    "## Prerequisites\n",
    "\n",
    "This tutorial assumes you have already completed the QVAL and QMOM tutorials:\n",
    "\n",
    "* QVAL: `quantrocket codeload clone 'qval'`\n",
    "* QMOM: `quantrocket codeload clone 'qmom'`\n",
    "\n",
    "This tutorial provides an implementation of the trend-based hedging strategy and runs the value, momentum, and trend strategies in tandem to replicate VMOT."
   ]
  },
  {
   "cell_type": "markdown",
   "metadata": {},
   "source": [
    "## Contents\n",
    "\n",
    "* Part 1: [Data Collection](Part1-Data-Collection.ipynb)\n",
    "* Part 2: [Trend Strategy](Part2-Trend-Strategy.ipynb)\n",
    "* Part 3: [VMOT Backtest](Part3-VMOT-Backtest.ipynb)"
   ]
  }
 ],
 "metadata": {
  "kernelspec": {
   "display_name": "Python 3",
   "language": "python",
   "name": "python3"
  },
  "language_info": {
   "codemirror_mode": {
    "name": "ipython",
    "version": 3
   },
   "file_extension": ".py",
   "mimetype": "text/x-python",
   "name": "python",
   "nbconvert_exporter": "python",
   "pygments_lexer": "ipython3",
   "version": "3.6.6"
  }
 },
 "nbformat": 4,
 "nbformat_minor": 2
}
